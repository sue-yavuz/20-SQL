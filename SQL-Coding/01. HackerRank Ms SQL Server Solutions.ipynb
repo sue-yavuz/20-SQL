{
 "cells": [
  {
   "attachments": {},
   "cell_type": "markdown",
   "metadata": {},
   "source": [
    "Basic Join \n",
    "\n",
    "The Report"
   ]
  },
  {
   "cell_type": "code",
   "execution_count": null,
   "metadata": {
    "vscode": {
     "languageId": "plaintext"
    }
   },
   "outputs": [],
   "source": [
    "SELECT\n",
    "    CASE\n",
    "    WHEN grades.grade < 8 THEN 'NULL'\n",
    "    ELSE students.name\n",
    "    END,\n",
    "    grades.grade, students.marks\n",
    "FROM students, grades\n",
    "WHERE students.marks >= grades.min_mark AND students.marks <= grades.max_mark\n",
    "ORDER BY grades.grade DESC, students.name"
   ]
  }
 ],
 "metadata": {
  "language_info": {
   "name": "python"
  },
  "orig_nbformat": 4
 },
 "nbformat": 4,
 "nbformat_minor": 2
}
