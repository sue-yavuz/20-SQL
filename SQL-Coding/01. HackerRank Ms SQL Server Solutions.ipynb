{
 "cells": [
  {
   "attachments": {},
   "cell_type": "markdown",
   "metadata": {},
   "source": [
    "Basic Join \n",
    "\n",
    "The Report"
   ]
  },
  {
   "cell_type": "code",
   "execution_count": null,
   "metadata": {
    "vscode": {
     "languageId": "plaintext"
    }
   },
   "outputs": [],
   "source": [
    "SELECT\n",
    "    CASE\n",
    "    WHEN grades.grade < 8 THEN 'NULL'\n",
    "    ELSE students.name\n",
    "    END,\n",
    "    grades.grade, students.marks\n",
    "FROM students, grades\n",
    "WHERE students.marks >= grades.min_mark AND students.marks <= grades.max_mark\n",
    "ORDER BY grades.grade DESC, students.name"
   ]
  },
  {
   "attachments": {},
   "cell_type": "markdown",
   "metadata": {},
   "source": [
    "Top Competitors"
   ]
  },
  {
   "cell_type": "code",
   "execution_count": null,
   "metadata": {},
   "outputs": [],
   "source": [
    "SELECT h.hacker_id, h.name\n",
    "FROM Hackers h\n",
    "JOIN (\n",
    "  SELECT s.hacker_id, COUNT(DISTINCT s.challenge_id) AS full_scores\n",
    "  FROM Submissions s\n",
    "  JOIN Challenges c ON s.challenge_id = c.challenge_id\n",
    "  JOIN Difficulty d ON c.difficulty_level = d.difficulty_level AND s.score = d.score\n",
    "  GROUP BY s.hacker_id\n",
    "  HAVING COUNT(DISTINCT s.challenge_id) > 1\n",
    ") AS full_scores ON h.hacker_id = full_scores.hacker_id\n",
    "ORDER BY full_scores DESC, h.hacker_id ASC;"
   ]
  },
  {
   "attachments": {},
   "cell_type": "markdown",
   "metadata": {},
   "source": [
    "Ollivander's Inventory"
   ]
  },
  {
   "cell_type": "code",
   "execution_count": null,
   "metadata": {},
   "outputs": [],
   "source": [
    "SELECT W.ID, P.AGE, W.COINS_NEEDED, W.POWER \n",
    "FROM WANDS AS W\n",
    "JOIN WANDS_PROPERTY AS P\n",
    "ON (W.CODE = P.CODE) \n",
    "WHERE P.IS_EVIL = 0 AND W.COINS_NEEDED = (SELECT MIN(COINS_NEEDED) \n",
    "                                          FROM WANDS AS X\n",
    "                                          JOIN WANDS_PROPERTY AS Y \n",
    "                                          ON (X.CODE = Y.CODE) \n",
    "                                          WHERE X.POWER = W.POWER AND Y.AGE = P.AGE) \n",
    "ORDER BY W.POWER DESC, P.AGE DESC;"
   ]
  },
  {
   "attachments": {},
   "cell_type": "markdown",
   "metadata": {},
   "source": [
    "Draw The Triangle 1"
   ]
  },
  {
   "cell_type": "code",
   "execution_count": null,
   "metadata": {},
   "outputs": [],
   "source": [
    "Declare @i int = 20\n",
    "\n",
    "while (@i>0)\n",
    "begin\n",
    "    print replicate('* ',@i);\n",
    "    set @i = @i- 1;\n",
    "end"
   ]
  }
 ],
 "metadata": {
  "language_info": {
   "name": "python"
  },
  "orig_nbformat": 4
 },
 "nbformat": 4,
 "nbformat_minor": 2
}
