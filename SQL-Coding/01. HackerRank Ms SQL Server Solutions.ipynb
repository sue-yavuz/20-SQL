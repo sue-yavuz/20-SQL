{
 "cells": [
  {
   "attachments": {},
   "cell_type": "markdown",
   "metadata": {},
   "source": [
    "Basic Join \n",
    "\n",
    "The Report"
   ]
  },
  {
   "cell_type": "code",
   "execution_count": null,
   "metadata": {
    "vscode": {
     "languageId": "plaintext"
    }
   },
   "outputs": [],
   "source": [
    "SELECT\n",
    "    CASE\n",
    "    WHEN grades.grade < 8 THEN 'NULL'\n",
    "    ELSE students.name\n",
    "    END,\n",
    "    grades.grade, students.marks\n",
    "FROM students, grades\n",
    "WHERE students.marks >= grades.min_mark AND students.marks <= grades.max_mark\n",
    "ORDER BY grades.grade DESC, students.name"
   ]
  },
  {
   "attachments": {},
   "cell_type": "markdown",
   "metadata": {},
   "source": [
    "Top Competitors"
   ]
  },
  {
   "cell_type": "code",
   "execution_count": null,
   "metadata": {},
   "outputs": [],
   "source": [
    "SELECT h.hacker_id, h.name\n",
    "FROM Hackers h\n",
    "JOIN (\n",
    "  SELECT s.hacker_id, COUNT(DISTINCT s.challenge_id) AS full_scores\n",
    "  FROM Submissions s\n",
    "  JOIN Challenges c ON s.challenge_id = c.challenge_id\n",
    "  JOIN Difficulty d ON c.difficulty_level = d.difficulty_level AND s.score = d.score\n",
    "  GROUP BY s.hacker_id\n",
    "  HAVING COUNT(DISTINCT s.challenge_id) > 1\n",
    ") AS full_scores ON h.hacker_id = full_scores.hacker_id\n",
    "ORDER BY full_scores DESC, h.hacker_id ASC;"
   ]
  },
  {
   "attachments": {},
   "cell_type": "markdown",
   "metadata": {},
   "source": [
    "Ollivander's Inventory"
   ]
  },
  {
   "cell_type": "code",
   "execution_count": null,
   "metadata": {},
   "outputs": [],
   "source": [
    "SELECT W.ID, P.AGE, W.COINS_NEEDED, W.POWER \n",
    "FROM WANDS AS W\n",
    "JOIN WANDS_PROPERTY AS P\n",
    "ON (W.CODE = P.CODE) \n",
    "WHERE P.IS_EVIL = 0 AND W.COINS_NEEDED = (SELECT MIN(W2.COINS_NEEDED) \n",
    "                                          FROM WANDS AS W2\n",
    "                                          JOIN WANDS_PROPERTY AS Y \n",
    "                                          ON (W2.CODE = Y.CODE) \n",
    "                                          WHERE W2.POWER = W.POWER AND Y.AGE = P.AGE) \n",
    "ORDER BY W.POWER DESC, P.AGE DESC;"
   ]
  },
  {
   "cell_type": "markdown",
   "metadata": {},
   "source": [
    "Draw The Triangle 1"
   ]
  },
  {
   "cell_type": "code",
   "execution_count": null,
   "metadata": {},
   "outputs": [],
   "source": [
    "Declare @i int = 20\n",
    "\n",
    "while (@i>0)\n",
    "begin\n",
    "    print replicate('* ',@i);\n",
    "    set @i = @i- 1;\n",
    "end"
   ]
  },
  {
   "attachments": {},
   "cell_type": "markdown",
   "metadata": {},
   "source": [
    "Challenges"
   ]
  },
  {
   "cell_type": "code",
   "execution_count": null,
   "metadata": {},
   "outputs": [],
   "source": [
    "SELECT hacker_id, name, c_cnt        \n",
    "FROM (\n",
    "    SELECT hacker_id, name, c_cnt,\n",
    "           COUNT(*) OVER(PARTITION BY c_cnt) AS same_cnt,    \n",
    "           MAX(c_cnt) OVER() AS max_cnt                \n",
    "    FROM (\n",
    "        SELECT h.hacker_id, h.name, COUNT(*) AS c_cnt\n",
    "        FROM Hackers h\n",
    "        JOIN Challenges c ON h.hacker_id = c.hacker_id\n",
    "        GROUP BY h.hacker_id, h.name\n",
    "        ) t1\n",
    "        ) t2\n",
    "WHERE c_cnt = max_cnt              \n",
    "OR  (c_cnt != max_cnt AND same_cnt = 1)\n",
    "ORDER BY c_cnt DESC, hacker_id;   "
   ]
  },
  {
   "attachments": {},
   "cell_type": "markdown",
   "metadata": {},
   "source": [
    "Draw The Triangle 2"
   ]
  },
  {
   "cell_type": "code",
   "execution_count": null,
   "metadata": {},
   "outputs": [],
   "source": [
    "Declare @i int = 1\n",
    "\n",
    "while (@i<=20)\n",
    "begin\n",
    "    print replicate('* ',@i);\n",
    "    set @i = @i+ 1;\n",
    "end"
   ]
  },
  {
   "attachments": {},
   "cell_type": "markdown",
   "metadata": {},
   "source": [
    "Contest Leaderboard"
   ]
  },
  {
   "cell_type": "code",
   "execution_count": null,
   "metadata": {},
   "outputs": [],
   "source": [
    "WITH max_scores\n",
    "AS (\n",
    "    select hacker_id, max(score) as max_score\n",
    "    from submissions\n",
    "    group by hacker_id, challenge_id\n",
    ")\n",
    "select ms.hacker_id, h.name, sum(ms.max_score) as total_score\n",
    "from max_scores ms \n",
    "join hackers h \n",
    "    on ms.hacker_id = h.hacker_id\n",
    "group by ms.hacker_id, h.name\n",
    "having sum(ms.max_score) <> 0\n",
    "ORDER BY total_score DESC, ms.hacker_id;"
   ]
  }
 ],
 "metadata": {
  "language_info": {
   "name": "python"
  },
  "orig_nbformat": 4
 },
 "nbformat": 4,
 "nbformat_minor": 2
}
